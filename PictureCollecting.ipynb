{
 "cells": [
  {
   "cell_type": "markdown",
   "id": "16ed6313-6109-4bba-b200-1e06cae9ce99",
   "metadata": {},
   "source": [
    "**1) Setup Library**"
   ]
  },
  {
   "cell_type": "code",
   "execution_count": null,
   "id": "7ec2ffd1-a8cb-4a3f-b941-abde978d159a",
   "metadata": {},
   "outputs": [],
   "source": [
    "import os\n",
    "import numpy as np\n",
    "import cv2\n",
    "from matplotlib import pyplot as plt"
   ]
  },
  {
   "cell_type": "markdown",
   "id": "151cdd6e-a073-4f55-9cd7-fadf76fb2348",
   "metadata": {},
   "source": [
    "**2) Test Collecting Picture**"
   ]
  },
  {
   "cell_type": "code",
   "execution_count": null,
   "id": "e0b83c5e-efa2-454d-9861-63b3ba8ab231",
   "metadata": {},
   "outputs": [],
   "source": [
    "def show_image(frame):\n",
    "    plt.imshow(cv2.cvtColor(frame, cv2.COLOR_BGR2RGB))"
   ]
  },
  {
   "cell_type": "code",
   "execution_count": null,
   "id": "50587728-f8dd-40b7-a1f9-1db9675c0650",
   "metadata": {},
   "outputs": [],
   "source": [
    "cap = cv2.VideoCapture(0)"
   ]
  },
  {
   "cell_type": "code",
   "execution_count": null,
   "id": "c3082c45-8e5f-439e-8b2b-6b0723615e06",
   "metadata": {
    "tags": []
   },
   "outputs": [],
   "source": [
    "while cap.isOpened():\n",
    "\n",
    "    # Read feed\n",
    "    ret, frame = cap.read()\n",
    "    print(ret)\n",
    "\n",
    "    # Save Picture\n",
    "    save = frame\n",
    "\n",
    "    # Show to screen\n",
    "    cv2.imshow(\"OpenCV Feed\", frame)\n",
    "\n",
    "    # Break gracefully\n",
    "    if cv2.waitKey(10) & 0xFF == ord(\"q\"):\n",
    "        break\n",
    "\n",
    "cap.release()\n",
    "cv2.destroyAllWindows()"
   ]
  },
  {
   "cell_type": "code",
   "execution_count": null,
   "id": "05763a51-cc48-42b8-aae6-e7a2b7d7b36f",
   "metadata": {
    "tags": []
   },
   "outputs": [],
   "source": [
    "plt.imshow(cv2.cvtColor(save, cv2.COLOR_BGR2RGB))"
   ]
  },
  {
   "cell_type": "code",
   "execution_count": null,
   "id": "8d627cc5-6ba0-4e35-8405-afd2459a6f59",
   "metadata": {},
   "outputs": [],
   "source": [
    "img_name = \"image_1.jpg\"\n",
    "loc = os.path.join(\"Dataset\", \"Seribu\", img_name)\n",
    "cv2.imwrite(loc, save)"
   ]
  },
  {
   "cell_type": "markdown",
   "id": "2193bbf7-6384-4bf7-9389-1a4f70df2ae0",
   "metadata": {},
   "source": [
    "**3) Setup Folder Collection**"
   ]
  },
  {
   "cell_type": "code",
   "execution_count": null,
   "id": "3233b030-fd91-44d2-8eed-63450802603a",
   "metadata": {},
   "outputs": [],
   "source": [
    "# Path for exported data, numpy arrays\n",
    "DATA_PATH = os.path.join('Dataset') \n",
    "\n",
    "# Actions that we try to detect\n",
    "actions = np.array(['seribu', 'duaribu', 'limaribu', 'sepuluhribu', \n",
    "                    'duapuluhribu', 'limapuluhribu', 'seratusribu'])\n",
    "\n",
    "# Fourty pict every data\n",
    "pict_class = 40"
   ]
  },
  {
   "cell_type": "code",
   "execution_count": null,
   "id": "f0f7e217-da76-420c-84dd-656c49f78d18",
   "metadata": {},
   "outputs": [],
   "source": [
    "for action in actions:\n",
    "    try:\n",
    "        os.makedirs(os.path.join(DATA_PATH, action))\n",
    "    except:\n",
    "        pass"
   ]
  },
  {
   "cell_type": "markdown",
   "id": "8a4df077-4410-4c3a-bc8e-3dbf668f658f",
   "metadata": {},
   "source": [
    "**4) Collect Dataset**"
   ]
  },
  {
   "cell_type": "code",
   "execution_count": null,
   "id": "4819a476-aeb9-4abc-a3f3-448141b363cb",
   "metadata": {},
   "outputs": [],
   "source": [
    "save = []\n",
    "cap = cv2.VideoCapture(0)\n",
    "for action in actions:\n",
    "    for pict in range(pict_class): \n",
    "        # Read feed\n",
    "        ret, frame = cap.read()\n",
    "        \n",
    "        save.append(frame)\n",
    "\n",
    "        cv2.putText(frame, 'Collecting frames for {} Video Number {}'.format(action, pict), (15,12), \n",
    "                    cv2.FONT_HERSHEY_SIMPLEX, 0.5, (0, 0, 255), 1, cv2.LINE_AA)\n",
    "        \n",
    "        # Show to screen\n",
    "        cv2.imshow('OpenCV Feed', frame)\n",
    "        cv2.waitKey(1000)\n",
    "\n",
    "        # Break gracefully\n",
    "        if cv2.waitKey(10) & 0xFF == ord(\"q\"):\n",
    "            break\n",
    "            \n",
    "cap.release()\n",
    "cv2.destroyAllWindows()"
   ]
  },
  {
   "cell_type": "code",
   "execution_count": null,
   "id": "6e39b6e5-ec59-4c48-aa95-b1dc0fbf9c87",
   "metadata": {},
   "outputs": [],
   "source": [
    "show_image(save[2])"
   ]
  },
  {
   "cell_type": "code",
   "execution_count": null,
   "id": "9f440151-1a8d-4474-819b-cf82373716d5",
   "metadata": {},
   "outputs": [],
   "source": [
    "save = np.array(save)\n",
    "type(save)"
   ]
  },
  {
   "cell_type": "code",
   "execution_count": null,
   "id": "7d1c6b23-7b5e-4faf-baa0-2aee830e4a98",
   "metadata": {},
   "outputs": [],
   "source": [
    "save.shape"
   ]
  },
  {
   "cell_type": "markdown",
   "id": "9ccdae08-60f5-40de-93a7-022d9f749794",
   "metadata": {},
   "source": [
    "**5) Setup folder for collection**"
   ]
  },
  {
   "cell_type": "code",
   "execution_count": null,
   "id": "624d7f24-706b-4418-b978-b970b5b06794",
   "metadata": {},
   "outputs": [],
   "source": [
    "def make_image(loc, frame):\n",
    "    try:\n",
    "        cv2.imwrite(loc, frame)\n",
    "    except:\n",
    "        pass"
   ]
  },
  {
   "cell_type": "code",
   "execution_count": null,
   "id": "59e920d6-d893-47dc-8cde-7e6c96234ec0",
   "metadata": {
    "tags": []
   },
   "outputs": [],
   "source": [
    "for action in actions:\n",
    "    count = 0\n",
    "    for frame in save:\n",
    "        name = \"{}_{}.jpg\".format(action, count)\n",
    "        loc = os.path.join(\"Dataset\", action, name)\n",
    "        make_image(loc, frame)\n",
    "        count += 1"
   ]
  }
 ],
 "metadata": {
  "kernelspec": {
   "display_name": "Python 3 (ipykernel)",
   "language": "python",
   "name": "python3"
  },
  "language_info": {
   "codemirror_mode": {
    "name": "ipython",
    "version": 3
   },
   "file_extension": ".py",
   "mimetype": "text/x-python",
   "name": "python",
   "nbconvert_exporter": "python",
   "pygments_lexer": "ipython3",
   "version": "3.10.4"
  }
 },
 "nbformat": 4,
 "nbformat_minor": 5
}
